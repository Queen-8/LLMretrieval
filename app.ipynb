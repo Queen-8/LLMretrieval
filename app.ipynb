{
 "cells": [
  {
   "cell_type": "code",
   "execution_count": null,
   "id": "85d2df6a",
   "metadata": {},
   "outputs": [
    {
     "name": "stdout",
     "output_type": "stream",
     "text": [
      "Current sys.path: ['/Library/Frameworks/Python.framework/Versions/3.13/lib/python313.zip', '/Library/Frameworks/Python.framework/Versions/3.13/lib/python3.13', '/Library/Frameworks/Python.framework/Versions/3.13/lib/python3.13/lib-dynload', '', '/Users/queen/Documents/VSCode/llm_retrieval/.venv/lib/python3.13/site-packages', '/Users/queen/Documents/VSCode/llm_retrieval/src', '/Users/queen/Documents/VSCode/llm_retrieval/src', '/Users/queen/Documents/VSCode/llm_retrieval/src', '/Users/queen/Documents/VSCode/llm_retrieval/src', '/Users/queen/Documents/VSCode/llm_retrieval/src', '/Users/queen/Documents/VSCode/llm_retrieval/src', '/Users/queen/Documents/VSCode/llm_retrieval/src', '/Users/queen/Documents/VSCode/llm_retrieval/src', '/Users/queen/Documents/VSCode/llm_retrieval/src', '/Users/queen/Documents/VSCode/llm_retrieval/src', '/Users/queen', '/Users/queen/Documents/VSCode/llm_retrieval/src', '/Users/queen/Documents/VSCode/llm_retrieval/src', '/Users/queen/Documents/VSCode/llm_retrieval/src', '/Users/queen/Documents/VSCode/llm_retrieval/src', '/Users/queen/Documents/VSCode/llm_retrieval/src', '/Users/queen/Documents/VSCode/llm_retrieval/src', '/Users/queen/Documents/VSCode/llm_retrieval/src', '/Users/queen/Documents/VSCode/llm_retrieval/src', '/Users/queen/Documents/VSCode/llm_retrieval/src', '/Users/queen/Documents/VSCode/llm_retrieval/src', '/Users/queen/Documents/VSCode/llm_retrieval/src', '/Users/queen/Documents/VSCode/llm_retrieval/src', '/Users/queen/Documents/VSCode/llm_retrieval/src', '/Users/queen/Documents/VSCode/llm_retrieval/src', '/Users/queen/Documents/VSCode/llm_retrieval/src', '/Users/queen/Documents/VSCode/llm_retrieval/src', '/Users/queen/Documents/VSCode/llm_retrieval/src', '/Users/queen/Documents/VSCode/llm_retrieval/src', '/Users/queen/Documents/VSCode/llm_retrieval/src', '/Users/queen/Documents/VSCode/llm_retrieval/src', '/Users/queen/Documents/VSCode/llm_retrieval/src', '/Users/queen/Documents/VSCode/llm_retrieval/src', '/Users/queen/Documents/VSCode/llm_retrieval/src', '/Users/queen/Documents/VSCode/llm_retrieval/src', '/Users/queen/Documents/VSCode/llm_retrieval/src', '/Users/queen/Documents/VSCode/llm_retrieval/src', '/Users/queen/Documents/VSCode/llm_retrieval/src']\n",
      "Current Working Directory: /Users/queen/Documents/VSCode/llm_retrieval\n",
      "Current sys.path: ['/Library/Frameworks/Python.framework/Versions/3.13/lib/python313.zip', '/Library/Frameworks/Python.framework/Versions/3.13/lib/python3.13', '/Library/Frameworks/Python.framework/Versions/3.13/lib/python3.13/lib-dynload', '', '/Users/queen/Documents/VSCode/llm_retrieval/.venv/lib/python3.13/site-packages', '/Users/queen/Documents/VSCode/llm_retrieval/src', '/Users/queen/Documents/VSCode/llm_retrieval/src', '/Users/queen/Documents/VSCode/llm_retrieval/src', '/Users/queen/Documents/VSCode/llm_retrieval/src', '/Users/queen/Documents/VSCode/llm_retrieval/src', '/Users/queen/Documents/VSCode/llm_retrieval/src', '/Users/queen/Documents/VSCode/llm_retrieval/src', '/Users/queen/Documents/VSCode/llm_retrieval/src', '/Users/queen/Documents/VSCode/llm_retrieval/src', '/Users/queen/Documents/VSCode/llm_retrieval/src', '/Users/queen', '/Users/queen/Documents/VSCode/llm_retrieval/src', '/Users/queen/Documents/VSCode/llm_retrieval/src', '/Users/queen/Documents/VSCode/llm_retrieval/src', '/Users/queen/Documents/VSCode/llm_retrieval/src', '/Users/queen/Documents/VSCode/llm_retrieval/src', '/Users/queen/Documents/VSCode/llm_retrieval/src', '/Users/queen/Documents/VSCode/llm_retrieval/src', '/Users/queen/Documents/VSCode/llm_retrieval/src', '/Users/queen/Documents/VSCode/llm_retrieval/src', '/Users/queen/Documents/VSCode/llm_retrieval/src', '/Users/queen/Documents/VSCode/llm_retrieval/src', '/Users/queen/Documents/VSCode/llm_retrieval/src', '/Users/queen/Documents/VSCode/llm_retrieval/src', '/Users/queen/Documents/VSCode/llm_retrieval/src', '/Users/queen/Documents/VSCode/llm_retrieval/src', '/Users/queen/Documents/VSCode/llm_retrieval/src', '/Users/queen/Documents/VSCode/llm_retrieval/src', '/Users/queen/Documents/VSCode/llm_retrieval/src', '/Users/queen/Documents/VSCode/llm_retrieval/src', '/Users/queen/Documents/VSCode/llm_retrieval/src', '/Users/queen/Documents/VSCode/llm_retrieval/src', '/Users/queen/Documents/VSCode/llm_retrieval/src', '/Users/queen/Documents/VSCode/llm_retrieval/src', '/Users/queen/Documents/VSCode/llm_retrieval/src', '/Users/queen/Documents/VSCode/llm_retrieval/src', '/Users/queen/Documents/VSCode/llm_retrieval/src', '/Users/queen/Documents/VSCode/llm_retrieval/src']\n"
     ]
    },
    {
     "ename": "ModuleNotFoundError",
     "evalue": "No module named 'src.langgraphagenticai'",
     "output_type": "error",
     "traceback": [
      "\u001b[31m---------------------------------------------------------------------------\u001b[39m",
      "\u001b[31mModuleNotFoundError\u001b[39m                       Traceback (most recent call last)",
      "\u001b[36mCell\u001b[39m\u001b[36m \u001b[39m\u001b[32mIn[38]\u001b[39m\u001b[32m, line 15\u001b[39m\n\u001b[32m     11\u001b[39m \u001b[38;5;28mprint\u001b[39m(\u001b[33m\"\u001b[39m\u001b[33mCurrent sys.path:\u001b[39m\u001b[33m\"\u001b[39m, sys.path)  \u001b[38;5;66;03m# 打印 sys.path\u001b[39;00m\n\u001b[32m     14\u001b[39m \u001b[38;5;66;03m# 导入模块\u001b[39;00m\n\u001b[32m---> \u001b[39m\u001b[32m15\u001b[39m \u001b[38;5;28;01mfrom\u001b[39;00m\u001b[38;5;250m \u001b[39m\u001b[34;01mlangchainAgenticAi\u001b[39;00m\u001b[34;01m.\u001b[39;00m\u001b[34;01mmain\u001b[39;00m\u001b[38;5;250m \u001b[39m\u001b[38;5;28;01mimport\u001b[39;00m load_langgraph_agenticai_app\n\u001b[32m     17\u001b[39m \u001b[38;5;28;01mif\u001b[39;00m \u001b[34m__name__\u001b[39m == \u001b[33m\"\u001b[39m\u001b[33m__main__\u001b[39m\u001b[33m\"\u001b[39m:\n\u001b[32m     18\u001b[39m     load_langgraph_agenticai_app()\n",
      "\u001b[36mFile \u001b[39m\u001b[32m~/Documents/VSCode/llm_retrieval/src/langchainAgenticAi/main.py:2\u001b[39m\n\u001b[32m      1\u001b[39m \u001b[38;5;28;01mimport\u001b[39;00m\u001b[38;5;250m \u001b[39m\u001b[34;01mstreamlit\u001b[39;00m\u001b[38;5;250m \u001b[39m\u001b[38;5;28;01mas\u001b[39;00m\u001b[38;5;250m \u001b[39m\u001b[34;01mst\u001b[39;00m\n\u001b[32m----> \u001b[39m\u001b[32m2\u001b[39m \u001b[38;5;28;01mfrom\u001b[39;00m\u001b[38;5;250m \u001b[39m\u001b[34;01msrc\u001b[39;00m\u001b[34;01m.\u001b[39;00m\u001b[34;01mlangchainAgenticAi\u001b[39;00m\u001b[34;01m.\u001b[39;00m\u001b[34;01mui\u001b[39;00m\u001b[34;01m.\u001b[39;00m\u001b[34;01mstreamlitUi\u001b[39;00m\u001b[34;01m.\u001b[39;00m\u001b[34;01mload_ui\u001b[39;00m\u001b[38;5;250m \u001b[39m\u001b[38;5;28;01mimport\u001b[39;00m LoadStreamlitUI\n\u001b[32m      3\u001b[39m \u001b[38;5;28;01mfrom\u001b[39;00m\u001b[38;5;250m \u001b[39m\u001b[34;01mlangchain_openai\u001b[39;00m\u001b[38;5;250m \u001b[39m\u001b[38;5;28;01mimport\u001b[39;00m ChatOpenAI  \u001b[38;5;66;03m# 导入 OpenRouter 的 OpenAI 模型\u001b[39;00m\n\u001b[32m      4\u001b[39m \u001b[38;5;28;01mfrom\u001b[39;00m\u001b[38;5;250m \u001b[39m\u001b[34;01msrc\u001b[39;00m\u001b[34;01m.\u001b[39;00m\u001b[34;01mlangchainAgenticAi\u001b[39;00m\u001b[34;01m.\u001b[39;00m\u001b[34;01mgraph\u001b[39;00m\u001b[34;01m.\u001b[39;00m\u001b[34;01mgraph_builder\u001b[39;00m\u001b[38;5;250m \u001b[39m\u001b[38;5;28;01mimport\u001b[39;00m GraphBuilder\n",
      "\u001b[36mFile \u001b[39m\u001b[32m~/Documents/VSCode/llm_retrieval/src/langchainAgenticAi/ui/streamlitUi/load_ui.py:3\u001b[39m\n\u001b[32m      1\u001b[39m \u001b[38;5;28;01mimport\u001b[39;00m\u001b[38;5;250m \u001b[39m\u001b[34;01mstreamlit\u001b[39;00m\u001b[38;5;250m \u001b[39m\u001b[38;5;28;01mas\u001b[39;00m\u001b[38;5;250m \u001b[39m\u001b[34;01mst\u001b[39;00m\n\u001b[32m      2\u001b[39m \u001b[38;5;28;01mimport\u001b[39;00m\u001b[38;5;250m \u001b[39m\u001b[34;01mos\u001b[39;00m\n\u001b[32m----> \u001b[39m\u001b[32m3\u001b[39m \u001b[38;5;28;01mfrom\u001b[39;00m\u001b[38;5;250m \u001b[39m\u001b[34;01msrc\u001b[39;00m\u001b[34;01m.\u001b[39;00m\u001b[34;01mlanggraphagenticai\u001b[39;00m\u001b[34;01m.\u001b[39;00m\u001b[34;01mui\u001b[39;00m\u001b[34;01m.\u001b[39;00m\u001b[34;01muiconfigfile\u001b[39;00m\u001b[38;5;250m \u001b[39m\u001b[38;5;28;01mimport\u001b[39;00m Config\n\u001b[32m      5\u001b[39m \u001b[38;5;28;01mclass\u001b[39;00m\u001b[38;5;250m \u001b[39m\u001b[34;01mLoadStreamlitUI\u001b[39;00m:\n\u001b[32m      6\u001b[39m     \u001b[38;5;28;01mdef\u001b[39;00m\u001b[38;5;250m \u001b[39m\u001b[34m__init__\u001b[39m(\u001b[38;5;28mself\u001b[39m):\n",
      "\u001b[31mModuleNotFoundError\u001b[39m: No module named 'src.langgraphagenticai'"
     ]
    }
   ],
   "source": [
    "import sys\n",
    "import os\n",
    "\n",
    "# 获取当前目录的绝对路径，并将 src 目录添加到 sys.path 中\n",
    "project_root = os.path.abspath(os.path.join(os.getcwd(), 'src'))  # 'src' 在当前工作目录下\n",
    "sys.path.append(project_root)\n",
    "\n",
    "# 打印当前 sys.path 以确认路径设置\n",
    "print(\"Current sys.path:\", sys.path)\n",
    "print(\"Current Working Directory:\", os.getcwd())  # 打印当前工作目录\n",
    "print(\"Current sys.path:\", sys.path)  # 打印 sys.path\n",
    "\n",
    "\n",
    "# 导入模块\n",
    "from langchainagenticai.main import load_langgraph_agenticai_app\n",
    "\n",
    "if __name__ == \"__main__\":\n",
    "    load_langgraph_agenticai_app()\n"
   ]
  }
 ],
 "metadata": {
  "kernelspec": {
   "display_name": ".venv",
   "language": "python",
   "name": "python3"
  },
  "language_info": {
   "codemirror_mode": {
    "name": "ipython",
    "version": 3
   },
   "file_extension": ".py",
   "mimetype": "text/x-python",
   "name": "python",
   "nbconvert_exporter": "python",
   "pygments_lexer": "ipython3",
   "version": "3.13.0"
  }
 },
 "nbformat": 4,
 "nbformat_minor": 5
}
