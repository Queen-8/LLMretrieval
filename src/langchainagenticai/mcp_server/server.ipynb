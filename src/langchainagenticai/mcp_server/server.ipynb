{
 "cells": [
  {
   "cell_type": "code",
   "execution_count": null,
   "id": "38300181",
   "metadata": {},
   "outputs": [],
   "source": [
    "from flask import Flask, request, jsonify\n",
    "import os\n",
    "import json\n",
    "from retrieval.local_retrieval import local_retrieve  # 本地检索\n",
    "from retrieval.cloud_retrieval import cloud_retrieve  # 云端检索\n",
    "\n",
    "app = Flask(__name__)\n",
    "\n",
    "@app.route('/query', methods=['POST'])\n",
    "def query():\n",
    "    try:\n",
    "        # 从前端获取查询和模型选择\n",
    "        data = request.get_json()\n",
    "        query = data.get(\"query\")\n",
    "        use_local = data.get(\"use_local\", True)  # 用户选择是否使用本地模型\n",
    "\n",
    "        # 根据选择调用本地模型或云端模型\n",
    "        if use_local:\n",
    "            # 使用本地检索\n",
    "            results = local_retrieve(query)\n",
    "        else:\n",
    "            # 使用云端检索\n",
    "            cloud_urls = json.loads(os.getenv('CLOUD_URLS', '[]'))  # 从环境变量读取云端 URL 列表\n",
    "            results = cloud_retrieve(query, cloud_urls)\n",
    "        \n",
    "        # 返回结果\n",
    "        answer = \"\\n\".join([doc.page_content for doc in results]) if results else \"⚠️ 无法找到相关文档。\"\n",
    "\n",
    "        return jsonify({\"answer\": answer})\n",
    "    except Exception as e:\n",
    "        return jsonify({\"error\": str(e)}), 500\n",
    "\n",
    "if __name__ == \"__main__\":\n",
    "    app.run(host=\"0.0.0.0\", port=5000)  # 启动 Flask 服务\n"
   ]
  }
 ],
 "metadata": {
  "language_info": {
   "name": "python"
  }
 },
 "nbformat": 4,
 "nbformat_minor": 5
}
