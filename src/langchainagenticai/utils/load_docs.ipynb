{
 "cells": [
  {
   "cell_type": "code",
   "execution_count": 34,
   "id": "b3f6e593",
   "metadata": {},
   "outputs": [
    {
     "name": "stdout",
     "output_type": "stream",
     "text": [
      "📂 加载路径: /Users/queen/Documents/VSCode/llm_retrieval/Local_knowledge_base\n",
      "📄 匹配到 4 个 PDF 文件： ['/Users/queen/Documents/VSCode/llm_retrieval/Local_knowledge_base/CSRF.pdf', '/Users/queen/Documents/VSCode/llm_retrieval/Local_knowledge_base/XXE.pdf', '/Users/queen/Documents/VSCode/llm_retrieval/Local_knowledge_base/2024年世界职业院校技能大赛制度汇编.pdf', '/Users/queen/Documents/VSCode/llm_retrieval/Local_knowledge_base/SSRF.pdf']\n",
      "✅ Loaded documents: 307\n",
      "First document text: 1\n",
      "CSRF\n",
      "1. 原理\n",
      "2. 与XSS区别\n",
      "3. 常见场景\n",
      "4. 常见漏洞点\n",
      "5. 漏洞危害\n",
      "6. CSRF Poc 构造\n",
      "7. 漏洞审计\n",
      "8. 漏洞修复\n",
      "9. Webgoat\n",
      "跨站请求伪造（Cro\n",
      "Second document text: 2\n",
      "\n",
      "一次完整的 CSRF 攻击需要具备以下两个条件：\n",
      "用户已经登录某站点，并且在浏览器中存储了登录后的 Cookie 信息。\n",
      "在不注销某站点的情况下，去访问攻击者构造的站点。\n",
      "例：\n",
      "网站管理员添加用\n"
     ]
    }
   ],
   "source": [
    "import logging\n",
    "import os\n",
    "import glob\n",
    "from dotenv import load_dotenv  # 用于加载.env环境变量\n",
    "from langchain.schema import Document\n",
    "from langchain_community.document_loaders import PyMuPDFLoader\n",
    "\n",
    "\n",
    "# from langchain.text_splitter import CharacterTextSplitter\n",
    "from langchain_text_splitters import RecursiveCharacterTextSplitter\n",
    "from langchain_community.embeddings import SentenceTransformerEmbeddings\n",
    "from langchain_community.vectorstores import Chroma\n",
    "\n",
    "\n",
    "from sentence_transformers import SentenceTransformer\n",
    "from sentence_transformers import CrossEncoder\n",
    "\n",
    "\n",
    "# 配置日志\n",
    "logging.basicConfig(level=logging.INFO)\n",
    "logger = logging.getLogger(__name__)\n",
    "\n",
    "# 加载 .env 中的配置\n",
    "load_dotenv()\n",
    "\n",
    "folder_path = os.getenv(\"LOCAL_KNOWLEDGE_BASE_PATH\", \"Local_knowledge_base\")\n",
    "print(\"📂 加载路径:\", folder_path)\n",
    "\n",
    "def load_pdf_from_folder(folder_path):\n",
    "    all_documents = []\n",
    "\n",
    "    pdf_files = glob.glob(f\"{folder_path}/*.pdf\")\n",
    "    print(f\"📄 匹配到 {len(pdf_files)} 个 PDF 文件：\", pdf_files)\n",
    "\n",
    "    for filename in pdf_files:\n",
    "        loader = PyMuPDFLoader(filename)\n",
    "        documents = loader.load()\n",
    "        all_documents.extend(documents)\n",
    "\n",
    "    return all_documents\n",
    "\n",
    "# 调用函数\n",
    "all_documents = load_pdf_from_folder(folder_path)\n",
    "print(\"✅ Loaded documents:\", len(all_documents))\n",
    "\n",
    "# 打印第一个文档的前100个字符（内容在 .page_content 属性中）\n",
    "if len(all_documents) > 0:\n",
    "    print(\"First document text:\", all_documents[0].page_content[:100])\n",
    "\n",
    "if len(all_documents) > 1:\n",
    "    print(\"Second document text:\", all_documents[1].page_content[:100])"
   ]
  },
  {
   "cell_type": "markdown",
   "id": "81257a02",
   "metadata": {},
   "source": [
    "切片\n"
   ]
  },
  {
   "cell_type": "code",
   "execution_count": 43,
   "id": "77c22f1f",
   "metadata": {},
   "outputs": [
    {
     "name": "stdout",
     "output_type": "stream",
     "text": [
      "🔍 分片总数: 322\n",
      "First chunk: 1\n",
      "CSRF\n",
      "1. 原理\n",
      "2. 与XSS区别\n",
      "3. 常见场景\n",
      "4. 常见漏洞点\n",
      "5. 漏洞危害\n",
      "6. CSRF Poc 构造\n",
      "7. 漏洞审计\n",
      "8. 漏洞修复\n",
      "9. Webgoat\n",
      "跨站请求伪造（Cro\n",
      "Second chunk: 2\n",
      "\n",
      "一次完整的 CSRF 攻击需要具备以下两个条件：\n",
      "用户已经登录某站点，并且在浏览器中存储了登录后的 Cookie 信息。\n",
      "在不注销某站点的情况下，去访问攻击者构造的站点。\n",
      "例：\n",
      "网站管理员添加用\n"
     ]
    }
   ],
   "source": [
    "def split_documents(documents, chunk_size=1000, overlap=100):\n",
    "    \"\"\"\n",
    "    对每个文档做分片，chunk_size控制单片长度，overlap保证上下文连贯\n",
    "    输入: Document对象列表，输出: 分片list\n",
    "    \"\"\"\n",
    "    text_splitter = RecursiveCharacterTextSplitter(chunk_size=chunk_size, chunk_overlap=overlap)\n",
    "    return text_splitter.split_documents(documents)\n",
    "    \n",
    "# 使用示例\n",
    "# 分片处理（✅ 修复后的调用）\n",
    "split_docs = split_documents(all_documents, chunk_size=1000, overlap=100)\n",
    "\n",
    "# 打印分片信息\n",
    "print(\"🔍 分片总数:\", len(split_docs))\n",
    "if split_docs:\n",
    "    print(\"First chunk:\", split_docs[0].page_content[:100])\n",
    "    print(\"Second chunk:\", split_docs[1].page_content[:100])"
   ]
  },
  {
   "cell_type": "markdown",
   "id": "bef7d462",
   "metadata": {},
   "source": [
    "建立索引"
   ]
  },
  {
   "cell_type": "code",
   "execution_count": null,
   "id": "8180b1ae",
   "metadata": {},
   "outputs": [
    {
     "name": "stderr",
     "output_type": "stream",
     "text": [
      "/var/folders/sd/5kzxkr7j1cq1356bqv4pt3840000gn/T/ipykernel_20737/2543798220.py:5: LangChainDeprecationWarning: The class `HuggingFaceEmbeddings` was deprecated in LangChain 0.2.2 and will be removed in 1.0. An updated version of the class exists in the :class:`~langchain-huggingface package and should be used instead. To use it run `pip install -U :class:`~langchain-huggingface` and import as `from :class:`~langchain_huggingface import HuggingFaceEmbeddings``.\n",
      "  embeddings = SentenceTransformerEmbeddings(model_name=\"shibing624/text2vec-base-chinese\")\n",
      "INFO:sentence_transformers.SentenceTransformer:Use pytorch device_name: mps\n",
      "INFO:sentence_transformers.SentenceTransformer:Load pretrained SentenceTransformer: shibing624/text2vec-base-chinese\n",
      "INFO:chromadb.telemetry.product.posthog:Anonymized telemetry enabled. See                     https://docs.trychroma.com/telemetry for more information.\n"
     ]
    },
    {
     "name": "stdout",
     "output_type": "stream",
     "text": [
      "Index built with 322 document chunks.\n"
     ]
    }
   ],
   "source": [
    "def build_index(documents):\n",
    "    \"\"\"\n",
    "    Convert the sharded documents into vectors and index them\n",
    "    \"\"\"\n",
    "    embeddings = SentenceTransformerEmbeddings(model_name=\"shibing624/text2vec-base-chinese\")\n",
    "    \n",
    "    # 将文档列表转换为Document对象（确保doc是字符串类型）\n",
    "    doc_objects = [Document(page_content=str(doc)) for doc in documents]\n",
    "    \n",
    "    # 使用Chroma创建向量索引\n",
    "    index = Chroma.from_documents(doc_objects, embeddings)\n",
    "    \n",
    "    return index\n",
    "\n",
    "# 使用示例：假设split_docs包含分片后的文档列表\n",
    "index = build_index(split_docs)\n",
    "\n",
    "# 打印索引信息（获取索引中文档数量）\n",
    "print(\"Index built with\", index._collection.count(), \"document chunks.\")"
   ]
  },
  {
   "cell_type": "markdown",
   "id": "2ceaf4b0",
   "metadata": {},
   "source": [
    "存储在向量数据库"
   ]
  },
  {
   "cell_type": "code",
   "execution_count": 48,
   "id": "c9cfdcae",
   "metadata": {},
   "outputs": [
    {
     "name": "stderr",
     "output_type": "stream",
     "text": [
      "INFO:sentence_transformers.SentenceTransformer:Use pytorch device_name: mps\n",
      "INFO:sentence_transformers.SentenceTransformer:Load pretrained SentenceTransformer: shibing624/text2vec-base-chinese\n"
     ]
    },
    {
     "name": "stdout",
     "output_type": "stream",
     "text": [
      "Index built with 322 document chunks.\n"
     ]
    }
   ],
   "source": [
    "from langchain_community.vectorstores import Chroma\n",
    "from langchain.embeddings import SentenceTransformerEmbeddings\n",
    "from langchain.schema import Document\n",
    "\n",
    "def build_index(documents):\n",
    "    \"\"\"\n",
    "    Convert the sharded documents into vectors and index them (in-memory, non-persistent)\n",
    "    \"\"\"\n",
    "    embeddings = SentenceTransformerEmbeddings(model_name=\"shibing624/text2vec-base-chinese\")\n",
    "    \n",
    "    # 将文档列表转换为 Document 对象\n",
    "    doc_objects = [Document(page_content=str(doc)) for doc in documents]\n",
    "    \n",
    "    # 使用 Chroma 创建非持久化的向量索引（内存模式）\n",
    "    index = Chroma.from_documents(documents=doc_objects,\n",
    "                                  embedding=embeddings,\n",
    "                                  collection_name=\"default\",  # 可自定义\n",
    "                                  persist_directory=None)     # 不持久化\n",
    "    return index\n",
    "\n",
    "# 使用示例（split_docs 是分片后的文本列表）\n",
    "index = build_index(split_docs)\n",
    "\n",
    "# 打印索引中的文档数量\n",
    "print(\"Index built with\", index._collection.count(), \"document chunks.\")"
   ]
  },
  {
   "cell_type": "markdown",
   "id": "208c6865",
   "metadata": {},
   "source": [
    "封装"
   ]
  },
  {
   "cell_type": "code",
   "execution_count": 49,
   "id": "2d72d5f0",
   "metadata": {},
   "outputs": [],
   "source": [
    "# ✅ 封装初始化函数（建议每次项目启动时调用）\n",
    "def init_retrieval_pipeline():\n",
    "    logger.info(\"🚀 正在初始化检索系统...\")\n",
    "    raw_documents = load_pdf_from_folder(folder_path)\n",
    "    split_docs = split_documents(raw_documents)\n",
    "    index = build_index(split_docs)\n",
    "    logger.info(f\"✅ 检索系统初始化完成，共加载 {len(split_docs)} 个文档分片\")\n",
    "    return index"
   ]
  },
  {
   "cell_type": "markdown",
   "id": "d1f4a12d",
   "metadata": {},
   "source": [
    "召回"
   ]
  },
  {
   "cell_type": "code",
   "execution_count": 54,
   "id": "54237ce3",
   "metadata": {},
   "outputs": [
    {
     "name": "stdout",
     "output_type": "stream",
     "text": [
      "Document 1 content: page_content='223\n",
      "（三）《赛事指南》封三要求\n",
      "封三为大赛简介（中英文双语版）。\n",
      "1. 2024 年世界职业院校技能大赛（简介）\n",
      "全国职业院校技能大赛（简称大赛）是教育部牵头、联\n",
      "合国\n",
      "Document 2 content: page_content='165\n",
      "（三）《赛事指南》封三要求\n",
      "封三为大赛简介（中英文双语版）。\n",
      "1. 2024 年世界职业院校技能大赛（简介）\n",
      "全国职业院校技能大赛（简称大赛）是教育部牵头、联\n",
      "合国\n",
      "Document 3 content: page_content='195\n",
      "（三）《赛事指南》封三要求\n",
      "封三为大赛简介（中英文双语版）。\n",
      "1. 2024 年世界职业院校技能大赛（简介）\n",
      "全国职业院校技能大赛（简称大赛）是教育部牵头、联\n",
      "合国\n",
      "Document 4 content: page_content='218\n",
      "附件4\n",
      "2024 年世界职业院校技能大赛\n",
      "赛事承办单位安全保障责任承诺书\n",
      "为确保2024 年世界职业院校技能大赛（以下简称“大赛”）\n",
      "顺利进行，及时排除安全隐患，防\n",
      "Document 5 content: page_content='190\n",
      "附件4\n",
      "2024 年世界职业院校技能大赛\n",
      "赛事承办单位安全保障责任承诺书\n",
      "为确保2024 年世界职业院校技能大赛（以下简称“大赛”）\n",
      "顺利进行，及时排除安全隐患，防\n"
     ]
    }
   ],
   "source": [
    "def recall_documents(query : str, index, k=5):\n",
    "    \"\"\"\n",
    "    A similarity retrieval is performed and the k most similar documents to the query are returned\n",
    "    \"\"\"\n",
    "    return index.similarity_search(query, k=k)\n",
    "\n",
    "\n",
    "# 使用示例\n",
    "query = \"2024年世界职业院校分为哪些赛道?\"\n",
    "retrieved_docs = recall_documents(query, index, k=5)\n",
    "# 打印检索到的文档内容\n",
    "for i, doc in enumerate(retrieved_docs):\n",
    "    print(f\"Document {i+1} content:\", doc.page_content[:100])  # 打印每个文档的前100个字符\n"
   ]
  },
  {
   "cell_type": "markdown",
   "id": "14432a70",
   "metadata": {},
   "source": [
    "重排"
   ]
  },
  {
   "cell_type": "code",
   "execution_count": 59,
   "id": "8d619b9f",
   "metadata": {},
   "outputs": [
    {
     "name": "stdout",
     "output_type": "stream",
     "text": [
      "🔍 初始召回结果：\n",
      "[召回1] page_content='223\n",
      "（三）《赛事指南》封三要求\n",
      "封三为大赛简介（中英文双语版）。\n",
      "1. 2024 年世界职业院校技能大赛（简介）\n",
      "全国职业院校技能大赛（简称大赛）是教育部牵头、联\n",
      "合国...\n",
      "[召回2] page_content='165\n",
      "（三）《赛事指南》封三要求\n",
      "封三为大赛简介（中英文双语版）。\n",
      "1. 2024 年世界职业院校技能大赛（简介）\n",
      "全国职业院校技能大赛（简称大赛）是教育部牵头、联\n",
      "合国...\n",
      "[召回3] page_content='195\n",
      "（三）《赛事指南》封三要求\n",
      "封三为大赛简介（中英文双语版）。\n",
      "1. 2024 年世界职业院校技能大赛（简介）\n",
      "全国职业院校技能大赛（简称大赛）是教育部牵头、联\n",
      "合国...\n",
      "[召回4] page_content='218\n",
      "附件4\n",
      "2024 年世界职业院校技能大赛\n",
      "赛事承办单位安全保障责任承诺书\n",
      "为确保2024 年世界职业院校技能大赛（以下简称“大赛”）\n",
      "顺利进行，及时排除安全隐患，防...\n",
      "[召回5] page_content='190\n",
      "附件4\n",
      "2024 年世界职业院校技能大赛\n",
      "赛事承办单位安全保障责任承诺书\n",
      "为确保2024 年世界职业院校技能大赛（以下简称“大赛”）\n",
      "顺利进行，及时排除安全隐患，防...\n"
     ]
    },
    {
     "name": "stderr",
     "output_type": "stream",
     "text": [
      "INFO:sentence_transformers.cross_encoder.CrossEncoder:Use pytorch device: mps\n",
      "Batches: 100%|██████████| 1/1 [00:01<00:00,  1.87s/it]"
     ]
    },
    {
     "name": "stdout",
     "output_type": "stream",
     "text": [
      "\n",
      "🏆 Top-3 重排后结果：\n",
      "[1] page_content='195\n",
      "（三）《赛事指南》封三要求\n",
      "封三为大赛简介（中英文双语版）。\n",
      "1. 2024 年世界职业院校技能大赛（简介）\n",
      "全国职业院校技能大赛（简称大赛）是教育部牵头、联\n",
      "合国家部委和事业组织举办的一项公益性、国际性职业院校\n",
      "综合技能竞赛，是我国职业教育一项重大制度设计和创新，\n",
      "是举办历史最久、联合主办部委最全、赛项数量最多的世界\n",
      "性综合技能赛事。大赛始终坚持“以赛促教、以赛促学”的\n",
      "理念，自2008 年以来已连续举办16 届，办赛规模和影响力\n",
      "持续提升，大赛成果不断转化为专业人才培养方案、课程和\n",
      "教学内容，有效推进了校企合作和实习实训基地建设，在引\n",
      "领职业教育“三教”改革、提高技术技能人才培养质量、促\n",
      "进高质量就业、服务经济社会发展、助力中外职业教育交流\n",
      "合作等方面发挥了重要作用，已经成为广大职教师生展示风\n",
      "采、追梦圆梦的重要舞台和中国职业教育的靓丽品牌。\n",
      "党的二十大报告对职业教育在全面建设社会主义现代\n",
      "化国家新征程中的作用提出了新要求，强国建设赋予了职业\n",
      "教育新的时代使命。为强化大赛综合育人功能，提升赛事实\n",
      "施科学水平，打造职业教育国际品牌，经大赛组委会研究，\n",
      "决定将“全国职业院校技能大赛”升级为“世界职业院校技\n",
      "能大赛”，优化大赛体制机制，助力培育新质生产力、建设\n",
      "现代化产业体系、培养具备综合技能意识和实践动手能力的\n",
      "高技能人才。' metadata={'producer': '', 'creator': 'WPS 文字', 'creationdate': '2024-09-30T16:02:34+08:00', 'source': '/Users/queen/Documents/VSCode/llm_retrieval/Local_knowledge_base/2024年世界职业院校技能大赛制度汇编.pdf', 'file_path': '/Users/queen/Documents/VSCode/llm_retrieval/Local_knowledge_base/2024年世界职业院校技能大赛制度汇编.pdf', 'total_pages': 255, 'format': 'PDF 1.7', 'title': '', 'author': '26742', 'subject': '', 'keywords': '', 'moddate': '2024-09-30T16:02:34+08:00', 'trapped': '', 'modDate': \"D:20240930160234+08'00'\", 'creationDate': \"D:20240930160234+08'00'\", 'page': 196}\n",
      "\n",
      "[2] page_content='165\n",
      "（三）《赛事指南》封三要求\n",
      "封三为大赛简介（中英文双语版）。\n",
      "1. 2024 年世界职业院校技能大赛（简介）\n",
      "全国职业院校技能大赛（简称大赛）是教育部牵头、联\n",
      "合国家部委和事业组织举办的一项公益性、国际性职业院校\n",
      "综合技能竞赛，是我国职业教育一项重大制度设计和创新，\n",
      "是举办历史最久、联合主办部委最全、赛项数量最多的世界\n",
      "性综合技能赛事。大赛始终坚持“以赛促教、以赛促学”的\n",
      "理念，自2008 年以来已连续举办16 届，办赛规模和影响力\n",
      "持续提升，大赛成果不断转化为专业人才培养方案、课程和\n",
      "教学内容，有效推进了校企合作和实习实训基地建设，在引\n",
      "领职业教育“三教”改革、提高技术技能人才培养质量、促\n",
      "进高质量就业、服务经济社会发展、助力中外职业教育交流\n",
      "合作等方面发挥了重要作用，已经成为广大职教师生展示风\n",
      "采、追梦圆梦的重要舞台和中国职业教育的靓丽品牌。\n",
      "党的二十大报告对职业教育在全面建设社会主义现代\n",
      "化国家新征程中的作用提出了新要求，强国建设赋予了职业\n",
      "教育新的时代使命。为强化大赛综合育人功能，提升赛事实\n",
      "施科学水平，打造职业教育国际品牌，经大赛组委会研究，\n",
      "决定将“全国职业院校技能大赛”升级为“世界职业院校技\n",
      "能大赛”，优化大赛体制机制，助力培育新质生产力、建设\n",
      "现代化产业体系、培养具备综合技能意识和实践动手能力的\n",
      "高技能人才。' metadata={'producer': '', 'creator': 'WPS 文字', 'creationdate': '2024-09-30T16:02:34+08:00', 'source': '/Users/queen/Documents/VSCode/llm_retrieval/Local_knowledge_base/2024年世界职业院校技能大赛制度汇编.pdf', 'file_path': '/Users/queen/Documents/VSCode/llm_retrieval/Local_knowledge_base/2024年世界职业院校技能大赛制度汇编.pdf', 'total_pages': 255, 'format': 'PDF 1.7', 'title': '', 'author': '26742', 'subject': '', 'keywords': '', 'moddate': '2024-09-30T16:02:34+08:00', 'trapped': '', 'modDate': \"D:20240930160234+08'00'\", 'creationDate': \"D:20240930160234+08'00'\", 'page': 166}\n",
      "\n",
      "[3] page_content='223\n",
      "（三）《赛事指南》封三要求\n",
      "封三为大赛简介（中英文双语版）。\n",
      "1. 2024 年世界职业院校技能大赛（简介）\n",
      "全国职业院校技能大赛（简称大赛）是教育部牵头、联\n",
      "合国家部委和事业组织举办的一项公益性、国际性职业院校\n",
      "综合技能竞赛，是我国职业教育一项重大制度设计和创新，\n",
      "是举办历史最久、联合主办部委最全、赛项数量最多的世界\n",
      "性综合技能赛事。大赛始终坚持“以赛促教、以赛促学”的\n",
      "理念，自2008 年以来已连续举办16 届，办赛规模和影响力\n",
      "持续提升，大赛成果不断转化为专业人才培养方案、课程和\n",
      "教学内容，有效推进了校企合作和实习实训基地建设，在引\n",
      "领职业教育“三教”改革、提高技术技能人才培养质量、促\n",
      "进高质量就业、服务经济社会发展、助力中外职业教育交流\n",
      "合作等方面发挥了重要作用，已经成为广大职教师生展示风\n",
      "采、追梦圆梦的重要舞台和中国职业教育的靓丽品牌。\n",
      "党的二十大报告对职业教育在全面建设社会主义现代\n",
      "化国家新征程中的作用提出了新要求，强国建设赋予了职业\n",
      "教育新的时代使命。为强化大赛综合育人功能，提升赛事实\n",
      "施科学水平，打造职业教育国际品牌，经大赛组委会研究，\n",
      "决定将“全国职业院校技能大赛”升级为“世界职业院校技\n",
      "能大赛”，优化大赛体制机制，助力培育新质生产力、建设\n",
      "现代化产业体系、培养具备综合技能意识和实践动手能力的\n",
      "高技能人才。' metadata={'producer': '', 'creator': 'WPS 文字', 'creationdate': '2024-09-30T16:02:34+08:00', 'source': '/Users/queen/Documents/VSCode/llm_retrieval/Local_knowledge_base/2024年世界职业院校技能大赛制度汇编.pdf', 'file_path': '/Users/queen/Documents/VSCode/llm_retrieval/Local_knowledge_base/2024年世界职业院校技能大赛制度汇编.pdf', 'total_pages': 255, 'format': 'PDF 1.7', 'title': '', 'author': '26742', 'subject': '', 'keywords': '', 'moddate': '2024-09-30T16:02:34+08:00', 'trapped': '', 'modDate': \"D:20240930160234+08'00'\", 'creationDate': \"D:20240930160234+08'00'\", 'page': 224}\n",
      "\n"
     ]
    },
    {
     "name": "stderr",
     "output_type": "stream",
     "text": [
      "\n"
     ]
    }
   ],
   "source": [
    "def rerank(query, retrieved_docs, top_k: int):\n",
    "    \"\"\"\n",
    "    Rerank the retrieved document chunks using a cross-encoder model and return the top_k contents\n",
    "    \"\"\"\n",
    "    # 提取每个 Document 的内容\n",
    "    retrieved_chunks = [doc.page_content for doc in retrieved_docs]\n",
    "    \n",
    "    # 创建 query-chunk 对\n",
    "    pairs = [(query, chunk) for chunk in retrieved_chunks]\n",
    "\n",
    "    # 使用 CrossEncoder 进行打分\n",
    "    cross_encoder = CrossEncoder('cross-encoder/mmarco-mMiniLMv2-L12-H384-v1')\n",
    "    scores = cross_encoder.predict(pairs)\n",
    "\n",
    "    # 将 chunk 与分数组成元组，并按分数降序排序\n",
    "    scored_chunks = list(zip(retrieved_chunks, scores))\n",
    "    scored_chunks.sort(key=lambda x: x[1], reverse=True)\n",
    "\n",
    "    # 返回 Top-K 重排后的 chunk 文本\n",
    "    return [chunk for chunk, _ in scored_chunks][:top_k]\n",
    "\n",
    "# 使用示例\n",
    "query = \"2024年世界职业院校分为哪些赛道?\"\n",
    "retrieved_docs = recall_documents(query, index, k=5)\n",
    "\n",
    "# 重排前查看召回结果（可选）\n",
    "print(\"🔍 初始召回结果：\")\n",
    "for i, doc in enumerate(retrieved_docs):\n",
    "    print(f\"[召回{i+1}] {doc.page_content[:100]}...\")\n",
    "\n",
    "# 对召回结果进行重排\n",
    "reranked_chunks = rerank(query, retrieved_docs, top_k=3)\n",
    "\n",
    "# 输出最终重排后的内容\n",
    "print(\"\\n🏆 Top-3 重排后结果：\")\n",
    "for i, chunk in enumerate(reranked_chunks):\n",
    "    print(f\"[{i+1}] {chunk}\\n\")"
   ]
  },
  {
   "cell_type": "markdown",
   "id": "7c8be830",
   "metadata": {},
   "source": [
    "生成"
   ]
  },
  {
   "cell_type": "code",
   "execution_count": null,
   "id": "4830fedd",
   "metadata": {},
   "outputs": [],
   "source": [
    "# from langchain_community.chat_models import ChatOllama\n",
    "from langchain_ollama import ChatOllama\n",
    "def generate_answer(query, reranked_chunks):\n",
    "    \"\"\"\n",
    "    基于查询和重排后的 chunk 文本生成最终答案\n",
    "    \"\"\"\n",
    "    documents_content = \"\\n\".join(reranked_chunks)\n",
    "\n",
    "    prompt = (\n",
    "        \"你是一个智能助手，请根据以下内容回答用户问题：\\n\\n\"\n",
    "        f\"{documents_content}\\n\\n用户提问：{query}\\n\\n请用简洁准确的语言作答：\"\n",
    "    )\n",
    "\n",
    "    llm = ChatOllama(base_url=\"http://localhost:11434\", model=\"llama3.1:8b\")\n",
    "    print(llm)\n",
    "\n",
    "    try:\n",
    "        response = llm.invoke(prompt)\n",
    "        return response.content.strip()\n",
    "    except Exception as e:\n",
    "        print(f\"❌ Error generating answer: {e}\")\n",
    "        return None\n",
    "    "
   ]
  },
  {
   "cell_type": "code",
   "execution_count": 97,
   "id": "b742a7d2",
   "metadata": {},
   "outputs": [
    {
     "name": "stdout",
     "output_type": "stream",
     "text": [
      "[Document(metadata={}, page_content='page_content=\\'195\\n（三）《赛事指南》封三要求\\n封三为大赛简介（中英文双语版）。\\n1. 2024 年世界职业院校技能大赛（简介）\\n全国职业院校技能大赛（简称大赛）是教育部牵头、联\\n合国家部委和事业组织举办的一项公益性、国际性职业院校\\n综合技能竞赛，是我国职业教育一项重大制度设计和创新，\\n是举办历史最久、联合主办部委最全、赛项数量最多的世界\\n性综合技能赛事。大赛始终坚持“以赛促教、以赛促学”的\\n理念，自2008 年以来已连续举办16 届，办赛规模和影响力\\n持续提升，大赛成果不断转化为专业人才培养方案、课程和\\n教学内容，有效推进了校企合作和实习实训基地建设，在引\\n领职业教育“三教”改革、提高技术技能人才培养质量、促\\n进高质量就业、服务经济社会发展、助力中外职业教育交流\\n合作等方面发挥了重要作用，已经成为广大职教师生展示风\\n采、追梦圆梦的重要舞台和中国职业教育的靓丽品牌。\\n党的二十大报告对职业教育在全面建设社会主义现代\\n化国家新征程中的作用提出了新要求，强国建设赋予了职业\\n教育新的时代使命。为强化大赛综合育人功能，提升赛事实\\n施科学水平，打造职业教育国际品牌，经大赛组委会研究，\\n决定将“全国职业院校技能大赛”升级为“世界职业院校技\\n能大赛”，优化大赛体制机制，助力培育新质生产力、建设\\n现代化产业体系、培养具备综合技能意识和实践动手能力的\\n高技能人才。\\' metadata={\\'producer\\': \\'\\', \\'creator\\': \\'WPS 文字\\', \\'creationdate\\': \\'2024-09-30T16:02:34+08:00\\', \\'source\\': \\'/Users/queen/Documents/VSCode/llm_retrieval/Local_knowledge_base/2024年世界职业院校技能大赛制度汇编.pdf\\', \\'file_path\\': \\'/Users/queen/Documents/VSCode/llm_retrieval/Local_knowledge_base/2024年世界职业院校技能大赛制度汇编.pdf\\', \\'total_pages\\': 255, \\'format\\': \\'PDF 1.7\\', \\'title\\': \\'\\', \\'author\\': \\'26742\\', \\'subject\\': \\'\\', \\'keywords\\': \\'\\', \\'moddate\\': \\'2024-09-30T16:02:34+08:00\\', \\'trapped\\': \\'\\', \\'modDate\\': \"D:20240930160234+08\\'00\\'\", \\'creationDate\\': \"D:20240930160234+08\\'00\\'\", \\'page\\': 196}'), Document(metadata={}, page_content='page_content=\\'223\\n（三）《赛事指南》封三要求\\n封三为大赛简介（中英文双语版）。\\n1. 2024 年世界职业院校技能大赛（简介）\\n全国职业院校技能大赛（简称大赛）是教育部牵头、联\\n合国家部委和事业组织举办的一项公益性、国际性职业院校\\n综合技能竞赛，是我国职业教育一项重大制度设计和创新，\\n是举办历史最久、联合主办部委最全、赛项数量最多的世界\\n性综合技能赛事。大赛始终坚持“以赛促教、以赛促学”的\\n理念，自2008 年以来已连续举办16 届，办赛规模和影响力\\n持续提升，大赛成果不断转化为专业人才培养方案、课程和\\n教学内容，有效推进了校企合作和实习实训基地建设，在引\\n领职业教育“三教”改革、提高技术技能人才培养质量、促\\n进高质量就业、服务经济社会发展、助力中外职业教育交流\\n合作等方面发挥了重要作用，已经成为广大职教师生展示风\\n采、追梦圆梦的重要舞台和中国职业教育的靓丽品牌。\\n党的二十大报告对职业教育在全面建设社会主义现代\\n化国家新征程中的作用提出了新要求，强国建设赋予了职业\\n教育新的时代使命。为强化大赛综合育人功能，提升赛事实\\n施科学水平，打造职业教育国际品牌，经大赛组委会研究，\\n决定将“全国职业院校技能大赛”升级为“世界职业院校技\\n能大赛”，优化大赛体制机制，助力培育新质生产力、建设\\n现代化产业体系、培养具备综合技能意识和实践动手能力的\\n高技能人才。\\' metadata={\\'producer\\': \\'\\', \\'creator\\': \\'WPS 文字\\', \\'creationdate\\': \\'2024-09-30T16:02:34+08:00\\', \\'source\\': \\'/Users/queen/Documents/VSCode/llm_retrieval/Local_knowledge_base/2024年世界职业院校技能大赛制度汇编.pdf\\', \\'file_path\\': \\'/Users/queen/Documents/VSCode/llm_retrieval/Local_knowledge_base/2024年世界职业院校技能大赛制度汇编.pdf\\', \\'total_pages\\': 255, \\'format\\': \\'PDF 1.7\\', \\'title\\': \\'\\', \\'author\\': \\'26742\\', \\'subject\\': \\'\\', \\'keywords\\': \\'\\', \\'moddate\\': \\'2024-09-30T16:02:34+08:00\\', \\'trapped\\': \\'\\', \\'modDate\\': \"D:20240930160234+08\\'00\\'\", \\'creationDate\\': \"D:20240930160234+08\\'00\\'\", \\'page\\': 224}'), Document(metadata={}, page_content='page_content=\\'165\\n（三）《赛事指南》封三要求\\n封三为大赛简介（中英文双语版）。\\n1. 2024 年世界职业院校技能大赛（简介）\\n全国职业院校技能大赛（简称大赛）是教育部牵头、联\\n合国家部委和事业组织举办的一项公益性、国际性职业院校\\n综合技能竞赛，是我国职业教育一项重大制度设计和创新，\\n是举办历史最久、联合主办部委最全、赛项数量最多的世界\\n性综合技能赛事。大赛始终坚持“以赛促教、以赛促学”的\\n理念，自2008 年以来已连续举办16 届，办赛规模和影响力\\n持续提升，大赛成果不断转化为专业人才培养方案、课程和\\n教学内容，有效推进了校企合作和实习实训基地建设，在引\\n领职业教育“三教”改革、提高技术技能人才培养质量、促\\n进高质量就业、服务经济社会发展、助力中外职业教育交流\\n合作等方面发挥了重要作用，已经成为广大职教师生展示风\\n采、追梦圆梦的重要舞台和中国职业教育的靓丽品牌。\\n党的二十大报告对职业教育在全面建设社会主义现代\\n化国家新征程中的作用提出了新要求，强国建设赋予了职业\\n教育新的时代使命。为强化大赛综合育人功能，提升赛事实\\n施科学水平，打造职业教育国际品牌，经大赛组委会研究，\\n决定将“全国职业院校技能大赛”升级为“世界职业院校技\\n能大赛”，优化大赛体制机制，助力培育新质生产力、建设\\n现代化产业体系、培养具备综合技能意识和实践动手能力的\\n高技能人才。\\' metadata={\\'producer\\': \\'\\', \\'creator\\': \\'WPS 文字\\', \\'creationdate\\': \\'2024-09-30T16:02:34+08:00\\', \\'source\\': \\'/Users/queen/Documents/VSCode/llm_retrieval/Local_knowledge_base/2024年世界职业院校技能大赛制度汇编.pdf\\', \\'file_path\\': \\'/Users/queen/Documents/VSCode/llm_retrieval/Local_knowledge_base/2024年世界职业院校技能大赛制度汇编.pdf\\', \\'total_pages\\': 255, \\'format\\': \\'PDF 1.7\\', \\'title\\': \\'\\', \\'author\\': \\'26742\\', \\'subject\\': \\'\\', \\'keywords\\': \\'\\', \\'moddate\\': \\'2024-09-30T16:02:34+08:00\\', \\'trapped\\': \\'\\', \\'modDate\\': \"D:20240930160234+08\\'00\\'\", \\'creationDate\\': \"D:20240930160234+08\\'00\\'\", \\'page\\': 166}'), Document(metadata={}, page_content='page_content=\\'248\\n附件：1. 2024 年世界职业院校技能大赛总决赛评分要素\\n2. 2024 年世界职业院校技能大赛争夺赛国际组参赛\\n视频要求（建议稿）\\n3. 2024 年世界职业院校技能大赛争夺赛国际组评审\\n操作指南\\' metadata={\\'producer\\': \\'\\', \\'creator\\': \\'WPS 文字\\', \\'creationdate\\': \\'2024-09-30T16:02:34+08:00\\', \\'source\\': \\'/Users/queen/Documents/VSCode/llm_retrieval/Local_knowledge_base/2024年世界职业院校技能大赛制度汇编.pdf\\', \\'file_path\\': \\'/Users/queen/Documents/VSCode/llm_retrieval/Local_knowledge_base/2024年世界职业院校技能大赛制度汇编.pdf\\', \\'total_pages\\': 255, \\'format\\': \\'PDF 1.7\\', \\'title\\': \\'\\', \\'author\\': \\'26742\\', \\'subject\\': \\'\\', \\'keywords\\': \\'\\', \\'moddate\\': \\'2024-09-30T16:02:34+08:00\\', \\'trapped\\': \\'\\', \\'modDate\\': \"D:20240930160234+08\\'00\\'\", \\'creationDate\\': \"D:20240930160234+08\\'00\\'\", \\'page\\': 249}'), Document(metadata={}, page_content='page_content=\\'196\\n2024 年大赛充分考虑国家产业发展方向、重点行业、民\\n生福祉密切相关产业和生产实践需要，共设置42 个赛道。\\n大赛总决赛分争夺赛、排位赛、冠军总决赛三个阶段进行，\\n其中争夺赛在北京、天津、河北、山西、内蒙古、辽宁、吉\\n林、黑龙江、上海、江苏、浙江、安徽、福建、江西、山东、\\n河南、湖北、湖南、广东、广西、海南、重庆、四川、贵州、\\n云南、西藏、陕西、甘肃、青海、宁夏、新疆、新疆生产建\\n设兵团等32 个赛区举行，排位赛、冠军总决赛在天津赛区\\n举行。\\n教育部将深入贯彻落实习近平总书记关于职业教育重\\n要指示批示精神和党中央、国务院关于职业教育改革发展的\\n决策部署，以“技炫青春能创未来”为主题，秉持“精彩、\\n公平、专业、开放”的办赛理念，立足国内、放眼世界，努\\n力将大赛办成具有中国特色、世界水平的技能大赛，展示我\\n国职业教育成就和水平，搭建世界职业教育互学互鉴、友好\\n交流平台，推动培养更多适应新技术变革和产业发展需要的\\n高技能人才、能工巧匠、大国工匠。\\n2. 2024 World Vocational College Skills Competition\\n（Introduction）\\nNational Vocational College Skills Competition (NVCSC)\\nis initiated by the Ministry of Education (MOE) of the People’s\\nRepublic of China, with the joint efforts of relevant national\\nministries and commissions, as well as public institutions and\\' metadata={\\'producer\\': \\'\\', \\'creator\\': \\'WPS 文字\\', \\'creationdate\\': \\'2024-09-30T16:02:34+08:00\\', \\'source\\': \\'/Users/queen/Documents/VSCode/llm_retrieval/Local_knowledge_base/2024年世界职业院校技能大赛制度汇编.pdf\\', \\'file_path\\': \\'/Users/queen/Documents/VSCode/llm_retrieval/Local_knowledge_base/2024年世界职业院校技能大赛制度汇编.pdf\\', \\'total_pages\\': 255, \\'format\\': \\'PDF 1.7\\', \\'title\\': \\'\\', \\'author\\': \\'26742\\', \\'subject\\': \\'\\', \\'keywords\\': \\'\\', \\'moddate\\': \\'2024-09-30T16:02:34+08:00\\', \\'trapped\\': \\'\\', \\'modDate\\': \"D:20240930160234+08\\'00\\'\", \\'creationDate\\': \"D:20240930160234+08\\'00\\'\", \\'page\\': 197}')]\n",
      "------\n"
     ]
    },
    {
     "name": "stderr",
     "output_type": "stream",
     "text": [
      "INFO:sentence_transformers.cross_encoder.CrossEncoder:Use pytorch device: mps\n",
      "Batches: 100%|██████████| 1/1 [00:00<00:00, 31.56it/s]\n"
     ]
    },
    {
     "name": "stdout",
     "output_type": "stream",
     "text": [
      "['page_content=\\'196\\n2024 年大赛充分考虑国家产业发展方向、重点行业、民\\n生福祉密切相关产业和生产实践需要，共设置42 个赛道。\\n大赛总决赛分争夺赛、排位赛、冠军总决赛三个阶段进行，\\n其中争夺赛在北京、天津、河北、山西、内蒙古、辽宁、吉\\n林、黑龙江、上海、江苏、浙江、安徽、福建、江西、山东、\\n河南、湖北、湖南、广东、广西、海南、重庆、四川、贵州、\\n云南、西藏、陕西、甘肃、青海、宁夏、新疆、新疆生产建\\n设兵团等32 个赛区举行，排位赛、冠军总决赛在天津赛区\\n举行。\\n教育部将深入贯彻落实习近平总书记关于职业教育重\\n要指示批示精神和党中央、国务院关于职业教育改革发展的\\n决策部署，以“技炫青春能创未来”为主题，秉持“精彩、\\n公平、专业、开放”的办赛理念，立足国内、放眼世界，努\\n力将大赛办成具有中国特色、世界水平的技能大赛，展示我\\n国职业教育成就和水平，搭建世界职业教育互学互鉴、友好\\n交流平台，推动培养更多适应新技术变革和产业发展需要的\\n高技能人才、能工巧匠、大国工匠。\\n2. 2024 World Vocational College Skills Competition\\n（Introduction）\\nNational Vocational College Skills Competition (NVCSC)\\nis initiated by the Ministry of Education (MOE) of the People’s\\nRepublic of China, with the joint efforts of relevant national\\nministries and commissions, as well as public institutions and\\' metadata={\\'producer\\': \\'\\', \\'creator\\': \\'WPS 文字\\', \\'creationdate\\': \\'2024-09-30T16:02:34+08:00\\', \\'source\\': \\'/Users/queen/Documents/VSCode/llm_retrieval/Local_knowledge_base/2024年世界职业院校技能大赛制度汇编.pdf\\', \\'file_path\\': \\'/Users/queen/Documents/VSCode/llm_retrieval/Local_knowledge_base/2024年世界职业院校技能大赛制度汇编.pdf\\', \\'total_pages\\': 255, \\'format\\': \\'PDF 1.7\\', \\'title\\': \\'\\', \\'author\\': \\'26742\\', \\'subject\\': \\'\\', \\'keywords\\': \\'\\', \\'moddate\\': \\'2024-09-30T16:02:34+08:00\\', \\'trapped\\': \\'\\', \\'modDate\\': \"D:20240930160234+08\\'00\\'\", \\'creationDate\\': \"D:20240930160234+08\\'00\\'\", \\'page\\': 197}', 'page_content=\\'195\\n（三）《赛事指南》封三要求\\n封三为大赛简介（中英文双语版）。\\n1. 2024 年世界职业院校技能大赛（简介）\\n全国职业院校技能大赛（简称大赛）是教育部牵头、联\\n合国家部委和事业组织举办的一项公益性、国际性职业院校\\n综合技能竞赛，是我国职业教育一项重大制度设计和创新，\\n是举办历史最久、联合主办部委最全、赛项数量最多的世界\\n性综合技能赛事。大赛始终坚持“以赛促教、以赛促学”的\\n理念，自2008 年以来已连续举办16 届，办赛规模和影响力\\n持续提升，大赛成果不断转化为专业人才培养方案、课程和\\n教学内容，有效推进了校企合作和实习实训基地建设，在引\\n领职业教育“三教”改革、提高技术技能人才培养质量、促\\n进高质量就业、服务经济社会发展、助力中外职业教育交流\\n合作等方面发挥了重要作用，已经成为广大职教师生展示风\\n采、追梦圆梦的重要舞台和中国职业教育的靓丽品牌。\\n党的二十大报告对职业教育在全面建设社会主义现代\\n化国家新征程中的作用提出了新要求，强国建设赋予了职业\\n教育新的时代使命。为强化大赛综合育人功能，提升赛事实\\n施科学水平，打造职业教育国际品牌，经大赛组委会研究，\\n决定将“全国职业院校技能大赛”升级为“世界职业院校技\\n能大赛”，优化大赛体制机制，助力培育新质生产力、建设\\n现代化产业体系、培养具备综合技能意识和实践动手能力的\\n高技能人才。\\' metadata={\\'producer\\': \\'\\', \\'creator\\': \\'WPS 文字\\', \\'creationdate\\': \\'2024-09-30T16:02:34+08:00\\', \\'source\\': \\'/Users/queen/Documents/VSCode/llm_retrieval/Local_knowledge_base/2024年世界职业院校技能大赛制度汇编.pdf\\', \\'file_path\\': \\'/Users/queen/Documents/VSCode/llm_retrieval/Local_knowledge_base/2024年世界职业院校技能大赛制度汇编.pdf\\', \\'total_pages\\': 255, \\'format\\': \\'PDF 1.7\\', \\'title\\': \\'\\', \\'author\\': \\'26742\\', \\'subject\\': \\'\\', \\'keywords\\': \\'\\', \\'moddate\\': \\'2024-09-30T16:02:34+08:00\\', \\'trapped\\': \\'\\', \\'modDate\\': \"D:20240930160234+08\\'00\\'\", \\'creationDate\\': \"D:20240930160234+08\\'00\\'\", \\'page\\': 196}', 'page_content=\\'223\\n（三）《赛事指南》封三要求\\n封三为大赛简介（中英文双语版）。\\n1. 2024 年世界职业院校技能大赛（简介）\\n全国职业院校技能大赛（简称大赛）是教育部牵头、联\\n合国家部委和事业组织举办的一项公益性、国际性职业院校\\n综合技能竞赛，是我国职业教育一项重大制度设计和创新，\\n是举办历史最久、联合主办部委最全、赛项数量最多的世界\\n性综合技能赛事。大赛始终坚持“以赛促教、以赛促学”的\\n理念，自2008 年以来已连续举办16 届，办赛规模和影响力\\n持续提升，大赛成果不断转化为专业人才培养方案、课程和\\n教学内容，有效推进了校企合作和实习实训基地建设，在引\\n领职业教育“三教”改革、提高技术技能人才培养质量、促\\n进高质量就业、服务经济社会发展、助力中外职业教育交流\\n合作等方面发挥了重要作用，已经成为广大职教师生展示风\\n采、追梦圆梦的重要舞台和中国职业教育的靓丽品牌。\\n党的二十大报告对职业教育在全面建设社会主义现代\\n化国家新征程中的作用提出了新要求，强国建设赋予了职业\\n教育新的时代使命。为强化大赛综合育人功能，提升赛事实\\n施科学水平，打造职业教育国际品牌，经大赛组委会研究，\\n决定将“全国职业院校技能大赛”升级为“世界职业院校技\\n能大赛”，优化大赛体制机制，助力培育新质生产力、建设\\n现代化产业体系、培养具备综合技能意识和实践动手能力的\\n高技能人才。\\' metadata={\\'producer\\': \\'\\', \\'creator\\': \\'WPS 文字\\', \\'creationdate\\': \\'2024-09-30T16:02:34+08:00\\', \\'source\\': \\'/Users/queen/Documents/VSCode/llm_retrieval/Local_knowledge_base/2024年世界职业院校技能大赛制度汇编.pdf\\', \\'file_path\\': \\'/Users/queen/Documents/VSCode/llm_retrieval/Local_knowledge_base/2024年世界职业院校技能大赛制度汇编.pdf\\', \\'total_pages\\': 255, \\'format\\': \\'PDF 1.7\\', \\'title\\': \\'\\', \\'author\\': \\'26742\\', \\'subject\\': \\'\\', \\'keywords\\': \\'\\', \\'moddate\\': \\'2024-09-30T16:02:34+08:00\\', \\'trapped\\': \\'\\', \\'modDate\\': \"D:20240930160234+08\\'00\\'\", \\'creationDate\\': \"D:20240930160234+08\\'00\\'\", \\'page\\': 224}']\n",
      "------\n",
      "model='llama3.1:8b'\n",
      "答案：2024年世界职业院校技能大赛总决赛分为争夺赛、排位赛和冠军总决赛三个阶段进行。\n",
      "✅ Generated answer: 答案：2024年世界职业院校技能大赛总决赛分为争夺赛、排位赛和冠军总决赛三个阶段进行。\n"
     ]
    }
   ],
   "source": [
    "\n",
    "# 示例流程\n",
    "query = \"2024年世界职业技能大赛总决赛分为哪三个阶段进行？\"\n",
    "\n",
    "\n",
    "query = \"2024年世界职业技能大赛总决赛分为哪三个阶段进行？\"\n",
    "\n",
    "# 第一步：召回\n",
    "retrieved_docs = recall_documents(query, index, k=5)\n",
    "print(retrieved_docs)\n",
    "\n",
    "print(\"------\")\n",
    "# 第二步：重排\n",
    "reranked_chunks = rerank(query, retrieved_docs, top_k=3)\n",
    "print(reranked_chunks)\n",
    "\n",
    "print(\"------\")\n",
    "# 第三步：生成答案\n",
    "answer = generate_answer(query, reranked_chunks)\n",
    "print(answer)\n",
    "\n",
    "\n",
    "# 输出\n",
    "if answer:\n",
    "    print(\"✅ Generated answer:\", answer)\n",
    "else:\n",
    "    print(\"❌ Failed to generate an answer.\")"
   ]
  }
 ],
 "metadata": {
  "kernelspec": {
   "display_name": ".venv",
   "language": "python",
   "name": "python3"
  },
  "language_info": {
   "codemirror_mode": {
    "name": "ipython",
    "version": 3
   },
   "file_extension": ".py",
   "mimetype": "text/x-python",
   "name": "python",
   "nbconvert_exporter": "python",
   "pygments_lexer": "ipython3",
   "version": "3.13.0"
  }
 },
 "nbformat": 4,
 "nbformat_minor": 5
}
