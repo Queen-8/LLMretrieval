{
 "cells": [
  {
   "cell_type": "code",
   "execution_count": 2,
   "id": "2082df9c",
   "metadata": {},
   "outputs": [],
   "source": [
    "# 通用 rag 逻辑\n",
    "import os\n",
    "import glob\n",
    "import logging\n",
    "from langchain.schema import Document\n",
    "from langchain.text_splitter import CharacterTextSplitter\n",
    "from langchain_community.embeddings import SentenceTransformerEmbeddings\n",
    "from langchain_community.vectorstores import Chroma\n",
    "# base_retrieval.py\n",
    "from langchain_community.vectorstores import Chroma\n",
    "from langchain_community.embeddings import SentenceTransformerEmbeddings\n",
    "import pinecone  # 假设使用Pinecone作为云端数据库\n",
    "\n",
    "\n",
    "# 配置日志\n",
    "logging.basicConfig(level=logging.INFO)\n",
    "logger = logging.getLogger(__name__)"
   ]
  },
  {
   "cell_type": "code",
   "execution_count": 3,
   "id": "9e767227",
   "metadata": {},
   "outputs": [],
   "source": [
    "# 文档分片函数\n",
    "def split_documents(documents, chunk_size=1000, overlap=100):\n",
    "    \"\"\"\n",
    "    对文档进行分片，返回分片后的文档列表\n",
    "    \"\"\"\n",
    "    # 将字符串列表转换为 Document 对象\n",
    "    doc_objects = [Document(page_content=doc) for doc in documents]\n",
    "    \n",
    "    # 使用文本分片器进行分片\n",
    "    text_splitter = CharacterTextSplitter(chunk_size=chunk_size, chunk_overlap=overlap)\n",
    "    \n",
    "    return text_splitter.split_documents(doc_objects)"
   ]
  },
  {
   "cell_type": "code",
   "execution_count": 4,
   "id": "c2b2a900",
   "metadata": {},
   "outputs": [],
   "source": [
    "# 构建本地或云端向量索引\n",
    "def build_index(documents):\n",
    "    \"\"\"\n",
    "    将文档转换为向量并构建索引\n",
    "    \"\"\"\n",
    "    embeddings = SentenceTransformerEmbeddings(model_name=\"shibing624/text2vec-base-chinese\")\n",
    "    \n",
    "    # 将文档转换为 Document 对象\n",
    "    doc_objects = [Document(page_content=str(doc)) for doc in documents]\n",
    "    \n",
    "    # 创建 Chroma 向量索引\n",
    "    index = Chroma.from_documents(doc_objects, embeddings)\n",
    "    \n",
    "    return index"
   ]
  },
  {
   "cell_type": "code",
   "execution_count": 5,
   "id": "036a365d",
   "metadata": {},
   "outputs": [],
   "source": [
    "# 检索相关文档\n",
    "def recall_documents(query, index, k=5):\n",
    "    \"\"\"\n",
    "    执行相似性检索并返回与查询最相关的 k 个文档\n",
    "    \"\"\"\n",
    "    return index.similarity_search(query, k=k)"
   ]
  }
 ],
 "metadata": {
  "kernelspec": {
   "display_name": ".venv",
   "language": "python",
   "name": "python3"
  },
  "language_info": {
   "codemirror_mode": {
    "name": "ipython",
    "version": 3
   },
   "file_extension": ".py",
   "mimetype": "text/x-python",
   "name": "python",
   "nbconvert_exporter": "python",
   "pygments_lexer": "ipython3",
   "version": "3.13.0"
  }
 },
 "nbformat": 4,
 "nbformat_minor": 5
}
