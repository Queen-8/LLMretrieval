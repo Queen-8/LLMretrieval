{
 "cells": [
  {
   "cell_type": "code",
   "execution_count": 30,
   "id": "2c7adab4",
   "metadata": {},
   "outputs": [],
   "source": [
    "import sys\n",
    "import os\n",
    "\n",
    "# 将项目根目录添加到 sys.path\n",
    "project_root = os.path.abspath(os.path.join(os.getcwd(), \"../../..\"))  # 跳出 src/langchainAgenticAi/retrieval\n",
    "sys.path.append(project_root)"
   ]
  },
  {
   "cell_type": "code",
   "execution_count": 31,
   "id": "02a5af43",
   "metadata": {},
   "outputs": [],
   "source": [
    "import os\n",
    "import glob\n",
    "import logging\n",
    "# from langchainAgenticAi.utils import build_index, split_documents, recall_documents\n",
    "from src.langchainAgenticAi.utils.base_retrieval import build_index, split_documents, recall_documents \n",
    "\n",
    "from langchain_community.vectorstores import Chroma\n",
    "import fitz  # 用于PDF文件处理\n",
    "\n",
    "# 配置日志\n",
    "logging.basicConfig(level=logging.INFO)\n",
    "logger = logging.getLogger(__name__)\n",
    "\n",
    "# 从环境变量中获取本地知识库的路径\n",
    "local_knowledge_base_path = os.getenv('LOCAL_KNOWLEDGE_BASE_PATH', 'Local_knowledge_base')"
   ]
  },
  {
   "cell_type": "code",
   "execution_count": 32,
   "id": "a5f35853",
   "metadata": {},
   "outputs": [],
   "source": [
    "def load_pdf_from_folder(folder_path):\n",
    "    \"\"\"\n",
    "    加载文件夹中的所有 PDF 文件，并提取文本内容\n",
    "    \"\"\"\n",
    "    all_documents = []\n",
    "    for filename in glob.glob(os.path.join(folder_path, \"*.pdf\")):\n",
    "        document_text = \"\"\n",
    "        with fitz.open(filename) as doc:\n",
    "            for page_num in range(doc.page_count):\n",
    "                page = doc.load_page(page_num)\n",
    "                document_text += page.get_text(\"text\")\n",
    "        all_documents.append(document_text)\n",
    "    return all_documents"
   ]
  },
  {
   "cell_type": "code",
   "execution_count": 33,
   "id": "67a7dc22",
   "metadata": {},
   "outputs": [],
   "source": [
    "def local_retrieve(query):\n",
    "    \"\"\"\n",
    "    使用本地知识库进行检索\n",
    "    \"\"\"\n",
    "    # 加载本地知识库中的 PDF 文档\n",
    "    documents = load_pdf_from_folder(local_knowledge_base_path)\n",
    "    \n",
    "    # 对文档进行分片\n",
    "    split_docs = split_documents(documents)\n",
    "    \n",
    "    # 构建本地向量索引\n",
    "    index = build_index(split_docs)\n",
    "    \n",
    "    # 执行检索\n",
    "    results = recall_documents(query, index)\n",
    "    \n",
    "    return results"
   ]
  }
 ],
 "metadata": {
  "kernelspec": {
   "display_name": ".venv",
   "language": "python",
   "name": "python3"
  },
  "language_info": {
   "codemirror_mode": {
    "name": "ipython",
    "version": 3
   },
   "file_extension": ".py",
   "mimetype": "text/x-python",
   "name": "python",
   "nbconvert_exporter": "python",
   "pygments_lexer": "ipython3",
   "version": "3.13.0"
  }
 },
 "nbformat": 4,
 "nbformat_minor": 5
}
