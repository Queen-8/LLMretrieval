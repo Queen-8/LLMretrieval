{
 "cells": [
  {
   "cell_type": "code",
   "execution_count": null,
   "id": "4b68b968",
   "metadata": {},
   "outputs": [
    {
     "ename": "NameError",
     "evalue": "name 'Users' is not defined",
     "output_type": "error",
     "traceback": [
      "\u001b[31m---------------------------------------------------------------------------\u001b[39m",
      "\u001b[31mNameError\u001b[39m                                 Traceback (most recent call last)",
      "\u001b[36mCell\u001b[39m\u001b[36m \u001b[39m\u001b[32mIn[3]\u001b[39m\u001b[32m, line 16\u001b[39m\n\u001b[32m     13\u001b[39m project_root = os.path.abspath(os.path.join(os.getcwd(), \u001b[33m\"\u001b[39m\u001b[33m../../..\u001b[39m\u001b[33m\"\u001b[39m))  \u001b[38;5;66;03m# 跳出 src/langchainAgenticAi/retrieval\u001b[39;00m\n\u001b[32m     14\u001b[39m sys.path.append(project_root)\n\u001b[32m---> \u001b[39m\u001b[32m16\u001b[39m \u001b[43mUsers\u001b[49m/queen/Downloads/llm_retrieval/src/langchainagenticai/()\n\u001b[32m     18\u001b[39m \u001b[38;5;28;01mfrom\u001b[39;00m\u001b[38;5;250m \u001b[39m\u001b[34;01mlangchainagenticai\u001b[39;00m\u001b[34;01m.\u001b[39;00m\u001b[34;01mutils\u001b[39;00m\u001b[34;01m.\u001b[39;00m\u001b[34;01mloaddocs\u001b[39;00m\u001b[38;5;250m \u001b[39m\u001b[38;5;28;01mimport\u001b[39;00m (\n\u001b[32m     19\u001b[39m     load_pdf_from_folder, \n\u001b[32m     20\u001b[39m     split_documents,\n\u001b[32m     21\u001b[39m     build_index,\n\u001b[32m     22\u001b[39m     init_retrieval_pipeline\n\u001b[32m     23\u001b[39m )\n\u001b[32m     25\u001b[39m \u001b[38;5;66;03m# 配置日志\u001b[39;00m\n",
      "\u001b[31mNameError\u001b[39m: name 'Users' is not defined"
     ]
    }
   ],
   "source": [
    "import sys  # 确保导入 sys 模块\n",
    "import os\n",
    "import glob\n",
    "import logging\n",
    "from ollama import Client\n",
    "from dotenv import load_dotenv  # 用于加载.env环境变量\n",
    "# from src.langchainagenticai.utils.base_retrieval import split_documents, build_index, recall_documents, rerank_documents\n",
    "from langchain.vectorstores import Chroma\n",
    "from langchain_community.embeddings import SentenceTransformerEmbeddings\n",
    "from langchain_text_splitters import RecursiveCharacterTextSplitter\n",
    "\n",
    "# 将项目根目录添加到 sys.path\n",
    "project_root = os.path.abspath(os.path.join(os.getcwd(), \"../../..\"))  # 跳出 src/langchainAgenticAi/retrieval\n",
    "sys.path.append(project_root)\n",
    "\n",
    "/Users/queen/Downloads/llm_retrieval/src/langchainagenticai/\n",
    "\n",
    "from langchainagenticai.utils.loaddocs import (\n",
    "    load_pdf_from_folder, \n",
    "    split_documents,\n",
    "    build_index,\n",
    "    init_retrieval_pipeline\n",
    ")\n",
    "\n",
    "# 配置日志\n",
    "logging.basicConfig(level=logging.INFO)\n",
    "logger = logging.getLogger(__name__)\n",
    "\n",
    "\n",
    "def recall_documents(query: str, index, k=5):\n",
    "    \"\"\"\n",
    "    基于向量相似度召回最相关的文档\n",
    "    \"\"\"\n",
    "    return index.similarity_search(query, k=k)\n",
    "\n",
    "\n"
   ]
  },
  {
   "cell_type": "code",
   "execution_count": 19,
   "id": "1e94bcb9",
   "metadata": {},
   "outputs": [],
   "source": [
    "def preprocess_and_store_documents(documents, db_path):\n",
    "    \"\"\"\n",
    "    预处理文档并将切片存储到 Chroma 向量数据库\n",
    "    \"\"\"\n",
    "    # 初始化加载器\n",
    "    # text_splitter = CharacterTextSplitter(chunk_size=100, chunk_overlap=0)\n",
    "   \n",
    "\n",
    "   # 初始化加载器\n",
    "    # text_splitter = CharacterTextSplitter(chunk_size=100, chunk_overlap=0)\n",
    "    text_splitter = RecursiveCharacterTextSplitter(chunk_size=1000, chunk_overlap=100)\n",
    "    print(text_splitter)\n",
    "    # 切割加载的 document\n",
    "    split_docs = text_splitter.split_documents(documents)\n",
    "    print(split_docs)\n",
    "   "
   ]
  }
 ],
 "metadata": {
  "kernelspec": {
   "display_name": ".venv",
   "language": "python",
   "name": "python3"
  },
  "language_info": {
   "codemirror_mode": {
    "name": "ipython",
    "version": 3
   },
   "file_extension": ".py",
   "mimetype": "text/x-python",
   "name": "python",
   "nbconvert_exporter": "python",
   "pygments_lexer": "ipython3",
   "version": "3.13.0"
  }
 },
 "nbformat": 4,
 "nbformat_minor": 5
}
