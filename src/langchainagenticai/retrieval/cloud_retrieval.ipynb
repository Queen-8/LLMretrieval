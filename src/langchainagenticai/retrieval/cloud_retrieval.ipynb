{
 "cells": [
  {
   "cell_type": "code",
   "execution_count": 3,
   "id": "11caac4a",
   "metadata": {},
   "outputs": [],
   "source": [
    "import sys\n",
    "import os\n",
    "\n",
    "# 将项目根目录添加到 sys.path\n",
    "project_root = os.path.abspath(os.path.join(os.getcwd(), \"../../..\"))  # 跳出 src/langchainAgenticAi/retrieval\n",
    "sys.path.append(project_root)"
   ]
  },
  {
   "cell_type": "code",
   "execution_count": 4,
   "id": "7eb29938",
   "metadata": {},
   "outputs": [],
   "source": [
    "import os\n",
    "import logging\n",
    "from src.langchainAgenticAi.utils.base_retrieval import build_index, split_documents, recall_documents\n",
    "import requests\n",
    "\n",
    "# 配置日志\n",
    "logging.basicConfig(level=logging.INFO)\n",
    "logger = logging.getLogger(__name__)"
   ]
  },
  {
   "cell_type": "code",
   "execution_count": 5,
   "id": "f1adf4c0",
   "metadata": {},
   "outputs": [],
   "source": [
    "def cloud_retrieve(query, cloud_urls):\n",
    "    \"\"\"\n",
    "    使用云端 URL 数组进行文档检索\n",
    "    \"\"\"\n",
    "    documents = []\n",
    "    for url in cloud_urls:\n",
    "        try:\n",
    "            # 从云端 URL 获取文档数据，这里假设云端返回的就是文档内容\n",
    "            response = requests.get(url)\n",
    "            if response.status_code == 200:\n",
    "                documents.append(response.text)\n",
    "            else:\n",
    "                logger.warning(f\"Failed to fetch from {url}: {response.status_code}\")\n",
    "        except Exception as e:\n",
    "            logger.error(f\"Error fetching from {url}: {str(e)}\")\n",
    "    \n",
    "    if not documents:\n",
    "        logger.error(\"No documents retrieved from cloud URLs.\")\n",
    "        return []\n",
    "\n",
    "    # 对文档进行分片\n",
    "    split_docs = split_documents(documents)\n",
    "    \n",
    "    # 构建云端向量索引\n",
    "    index = build_index(split_docs)\n",
    "    \n",
    "    # 执行检索\n",
    "    results = recall_documents(query, index)\n",
    "    \n",
    "    return results\n"
   ]
  },
  {
   "cell_type": "code",
   "execution_count": 6,
   "id": "512c930a",
   "metadata": {},
   "outputs": [],
   "source": [
    "def call_cloud_model(results):\n",
    "    \"\"\"\n",
    "    调用云端 OpenAI 模型进行推理\n",
    "    \"\"\"\n",
    "    # 获取 OpenRouter API 密钥\n",
    "    api_key = os.getenv(\"OPENROUTER_API_KEY\")  # 从环境变量获取 API 密钥\n",
    "\n",
    "    # 设置云端模型\n",
    "    model = ChatOpenAI(\n",
    "        model=\"openai/gpt-4o-mini\",  # 使用 OpenAI GPT-4 模型\n",
    "        base_url=\"https://openrouter.ai/api/v1\",  # OpenRouter API 基础 URL\n",
    "        api_key=SecretStr(api_key),  # 设置 API 密钥\n",
    "    )\n",
    "\n",
    "    # 拼接查询结果为输入字符串\n",
    "    input_text = \"\\n\".join([doc.page_content for doc in results])\n",
    "\n",
    "    try:\n",
    "        # 调用云端 OpenAI 模型进行推理\n",
    "        response = model.invoke(input_text)\n",
    "        answer = response['choices'][0]['text'].strip()  # 提取模型生成的文本\n",
    "        return answer\n",
    "    except Exception as e:\n",
    "        print(f\"❌ 云端模型调用失败: {e}\")\n",
    "        return \"⚠️ 云端模型调用失败，请检查网络或 API 配置。\""
   ]
  }
 ],
 "metadata": {
  "kernelspec": {
   "display_name": ".venv",
   "language": "python",
   "name": "python3"
  },
  "language_info": {
   "codemirror_mode": {
    "name": "ipython",
    "version": 3
   },
   "file_extension": ".py",
   "mimetype": "text/x-python",
   "name": "python",
   "nbconvert_exporter": "python",
   "pygments_lexer": "ipython3",
   "version": "3.13.0"
  }
 },
 "nbformat": 4,
 "nbformat_minor": 5
}
